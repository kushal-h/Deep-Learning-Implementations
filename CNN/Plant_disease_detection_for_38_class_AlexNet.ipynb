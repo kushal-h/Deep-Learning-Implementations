{
  "nbformat": 4,
  "nbformat_minor": 0,
  "metadata": {
    "colab": {
      "name": "Plant disease detection for 38 class AlexNet.ipynb",
      "provenance": [],
      "collapsed_sections": [],
      "mount_file_id": "1OVP0jfeLcccQGAqF2HEBDUQ5-TISQQk6",
      "authorship_tag": "ABX9TyMeOF1Aum42+neGzeOOOwm7",
      "include_colab_link": true
    },
    "kernelspec": {
      "display_name": "Python 3",
      "name": "python3"
    },
    "language_info": {
      "name": "python"
    }
  },
  "cells": [
    {
      "cell_type": "markdown",
      "metadata": {
        "id": "view-in-github",
        "colab_type": "text"
      },
      "source": [
        "<a href=\"https://colab.research.google.com/github/kushal-h/Deep-Learning-Implementations/blob/master/CNN/Plant_disease_detection_for_38_class_AlexNet.ipynb\" target=\"_parent\"><img src=\"https://colab.research.google.com/assets/colab-badge.svg\" alt=\"Open In Colab\"/></a>"
      ]
    },
    {
      "cell_type": "markdown",
      "metadata": {
        "id": "l2oBKZJUd1sh"
      },
      "source": [
        "# @Author: Kushal H"
      ]
    },
    {
      "cell_type": "code",
      "metadata": {
        "id": "iPXXzQR1dS_K"
      },
      "source": [
        "from google.colab import files\n",
        "\n",
        "files.upload()"
      ],
      "execution_count": null,
      "outputs": []
    },
    {
      "cell_type": "code",
      "metadata": {
        "id": "W9QQiwIadzq_"
      },
      "source": [
        "! mkdir ~/.kaggle\n",
        "! cp kaggle.json ~/.kaggle/\n",
        "! chmod 600 ~/.kaggle/kaggle.json\n"
      ],
      "execution_count": null,
      "outputs": []
    },
    {
      "cell_type": "code",
      "metadata": {
        "colab": {
          "base_uri": "https://localhost:8080/"
        },
        "id": "3g1RTC7Td_fk",
        "outputId": "7608f15c-1534-4b39-9165-7e87ecec9e90"
      },
      "source": [
        "!kaggle datasets download -d abdallahalidev/plantvillage-dataset"
      ],
      "execution_count": null,
      "outputs": [
        {
          "output_type": "stream",
          "text": [
            "Downloading plantvillage-dataset.zip to /content\n",
            "100% 2.03G/2.04G [00:23<00:00, 85.8MB/s]\n",
            "100% 2.04G/2.04G [00:23<00:00, 92.6MB/s]\n"
          ],
          "name": "stdout"
        }
      ]
    },
    {
      "cell_type": "code",
      "metadata": {
        "id": "QWwlBNFeeFjK"
      },
      "source": [
        "!unzip /content/plantvillage-dataset.zip"
      ],
      "execution_count": null,
      "outputs": []
    },
    {
      "cell_type": "markdown",
      "metadata": {
        "id": "5l-Y15mLeNUU"
      },
      "source": [
        "Installing folder split library"
      ]
    },
    {
      "cell_type": "code",
      "metadata": {
        "colab": {
          "base_uri": "https://localhost:8080/"
        },
        "id": "s0aCP0nreIVE",
        "outputId": "0c839d75-df40-44a8-a584-5d52e3e8c41c"
      },
      "source": [
        "!pip install split-folders"
      ],
      "execution_count": null,
      "outputs": [
        {
          "output_type": "stream",
          "text": [
            "Collecting split-folders\n",
            "  Downloading https://files.pythonhosted.org/packages/b8/5f/3c2b2f7ea5e047c8cdc3bb00ae582c5438fcdbbedcc23b3cc1c2c7aae642/split_folders-0.4.3-py3-none-any.whl\n",
            "Installing collected packages: split-folders\n",
            "Successfully installed split-folders-0.4.3\n"
          ],
          "name": "stdout"
        }
      ]
    },
    {
      "cell_type": "markdown",
      "metadata": {
        "id": "dCsGavDLebVC"
      },
      "source": [
        "Splitting the data into test and training dataset"
      ]
    },
    {
      "cell_type": "code",
      "metadata": {
        "id": "iYRpggoteZcZ",
        "colab": {
          "base_uri": "https://localhost:8080/"
        },
        "outputId": "993dc338-32fb-4343-8d4c-2aaef22e6860"
      },
      "source": [
        "import splitfolders  # or import split_folders\n",
        "\n",
        "# Split with a ratio.\n",
        "# To only split into training and validation set, set a tuple to `ratio`, i.e, `(.9, .1)`.\n",
        "splitfolders.ratio('/content/plantvillage dataset/segmented', output=\"out\", seed=1337, ratio=(0.9, 0.1),\n",
        "                   group_prefix=None) # default values"
      ],
      "execution_count": null,
      "outputs": [
        {
          "output_type": "stream",
          "text": [
            "Copying files: 54306 files [00:10, 5145.56 files/s]\n"
          ],
          "name": "stderr"
        }
      ]
    },
    {
      "cell_type": "code",
      "metadata": {
        "id": "zvXLK7-wejTK"
      },
      "source": [
        "import numpy as np\n",
        "import pickle\n",
        "import tensorflow as tf\n",
        "from tensorflow.keras.preprocessing.image import ImageDataGenerator\n",
        "from tensorflow.keras.layers import Dense, Flatten, Conv2D, MaxPooling2D, Dropout, Activation\n",
        "from tensorflow.keras.models import Sequential\n",
        "from keras.layers.normalization import BatchNormalization\n",
        "import matplotlib.pyplot as plt"
      ],
      "execution_count": null,
      "outputs": []
    },
    {
      "cell_type": "code",
      "metadata": {
        "id": "biXnEJCQencR"
      },
      "source": [
        "train_data_dir = '/content/out/train'\n",
        "val_data_dir = '/content/out/val'"
      ],
      "execution_count": null,
      "outputs": []
    },
    {
      "cell_type": "code",
      "metadata": {
        "id": "ZfIU4dAzewOH"
      },
      "source": [
        "# Data Augmentation\n",
        "train_datagen = ImageDataGenerator(\n",
        "     rescale=1./255,\n",
        "     rotation_range=30,\n",
        "     width_shift_range=0.3,\n",
        "     height_shift_range=0.3,\n",
        "     horizontal_flip=True,\n",
        "     fill_mode='nearest'\n",
        ")\n",
        "\n",
        "validation_datagen = ImageDataGenerator(rescale=1./255)"
      ],
      "execution_count": null,
      "outputs": []
    },
    {
      "cell_type": "code",
      "metadata": {
        "id": "xry-QX-de1VB",
        "colab": {
          "base_uri": "https://localhost:8080/"
        },
        "outputId": "b4c01b76-6dc3-4969-ae43-74cdbc06e083"
      },
      "source": [
        "train_generator = train_datagen.flow_from_directory(\n",
        "    train_data_dir,\n",
        "    target_size=(227,227),\n",
        "    batch_size=128,\n",
        "    class_mode='categorical'\n",
        ")\n",
        "\n",
        "validation_generator = validation_datagen.flow_from_directory(\n",
        "      val_data_dir,\n",
        "      target_size=(227,227),\n",
        "      batch_size=128,\n",
        "      class_mode='categorical')"
      ],
      "execution_count": null,
      "outputs": [
        {
          "output_type": "stream",
          "text": [
            "Found 48858 images belonging to 38 classes.\n",
            "Found 5448 images belonging to 38 classes.\n"
          ],
          "name": "stdout"
        }
      ]
    },
    {
      "cell_type": "code",
      "metadata": {
        "colab": {
          "base_uri": "https://localhost:8080/"
        },
        "id": "VMz8FvOhdPWu",
        "outputId": "15045423-5ff2-4730-9fb1-9e7160f69946"
      },
      "source": [
        "validation_generator.class_indices"
      ],
      "execution_count": null,
      "outputs": [
        {
          "output_type": "execute_result",
          "data": {
            "text/plain": [
              "{'Apple___Apple_scab': 0,\n",
              " 'Apple___Black_rot': 1,\n",
              " 'Apple___Cedar_apple_rust': 2,\n",
              " 'Apple___healthy': 3,\n",
              " 'Blueberry___healthy': 4,\n",
              " 'Cherry_(including_sour)___Powdery_mildew': 5,\n",
              " 'Cherry_(including_sour)___healthy': 6,\n",
              " 'Corn_(maize)___Cercospora_leaf_spot Gray_leaf_spot': 7,\n",
              " 'Corn_(maize)___Common_rust_': 8,\n",
              " 'Corn_(maize)___Northern_Leaf_Blight': 9,\n",
              " 'Corn_(maize)___healthy': 10,\n",
              " 'Grape___Black_rot': 11,\n",
              " 'Grape___Esca_(Black_Measles)': 12,\n",
              " 'Grape___Leaf_blight_(Isariopsis_Leaf_Spot)': 13,\n",
              " 'Grape___healthy': 14,\n",
              " 'Orange___Haunglongbing_(Citrus_greening)': 15,\n",
              " 'Peach___Bacterial_spot': 16,\n",
              " 'Peach___healthy': 17,\n",
              " 'Pepper,_bell___Bacterial_spot': 18,\n",
              " 'Pepper,_bell___healthy': 19,\n",
              " 'Potato___Early_blight': 20,\n",
              " 'Potato___Late_blight': 21,\n",
              " 'Potato___healthy': 22,\n",
              " 'Raspberry___healthy': 23,\n",
              " 'Soybean___healthy': 24,\n",
              " 'Squash___Powdery_mildew': 25,\n",
              " 'Strawberry___Leaf_scorch': 26,\n",
              " 'Strawberry___healthy': 27,\n",
              " 'Tomato___Bacterial_spot': 28,\n",
              " 'Tomato___Early_blight': 29,\n",
              " 'Tomato___Late_blight': 30,\n",
              " 'Tomato___Leaf_Mold': 31,\n",
              " 'Tomato___Septoria_leaf_spot': 32,\n",
              " 'Tomato___Spider_mites Two-spotted_spider_mite': 33,\n",
              " 'Tomato___Target_Spot': 34,\n",
              " 'Tomato___Tomato_Yellow_Leaf_Curl_Virus': 35,\n",
              " 'Tomato___Tomato_mosaic_virus': 36,\n",
              " 'Tomato___healthy': 37}"
            ]
          },
          "metadata": {
            "tags": []
          },
          "execution_count": 11
        }
      ]
    },
    {
      "cell_type": "code",
      "metadata": {
        "id": "aHJpHwuitI2e"
      },
      "source": [
        "validation_generator.class_indices"
      ],
      "execution_count": null,
      "outputs": []
    },
    {
      "cell_type": "markdown",
      "metadata": {
        "id": "jXkhzfSYfVoA"
      },
      "source": [
        "Building the CNN model (AlexNet)"
      ]
    },
    {
      "cell_type": "code",
      "metadata": {
        "id": "zxmmrE-ofRn6"
      },
      "source": [
        "model=Sequential()\n",
        "\n",
        "#1 conv layer\n",
        "model.add(Conv2D(filters=96,kernel_size=(11,11),strides=(4,4),padding=\"valid\",activation=\"relu\",input_shape=(227,227,3)))\n",
        "\n",
        "#1 max pool layer\n",
        "model.add(MaxPooling2D(pool_size=(3,3),strides=(2,2)))\n",
        "\n",
        "model.add(BatchNormalization())\n",
        "\n",
        "#2 conv layer\n",
        "model.add(Conv2D(filters=256,kernel_size=(5,5),strides=(1,1),padding=\"valid\",activation=\"relu\"))\n",
        "\n",
        "#2 max pool layer\n",
        "model.add(MaxPooling2D(pool_size=(3,3),strides=(2,2)))\n",
        "\n",
        "model.add(BatchNormalization())\n",
        "\n",
        "#3 conv layer\n",
        "model.add(Conv2D(filters=384,kernel_size=(3,3),strides=(1,1),padding=\"valid\",activation=\"relu\"))\n",
        "\n",
        "#4 conv layer\n",
        "model.add(Conv2D(filters=384,kernel_size=(3,3),strides=(1,1),padding=\"valid\",activation=\"relu\"))\n",
        "\n",
        "#5 conv layer\n",
        "model.add(Conv2D(filters=256,kernel_size=(3,3),strides=(1,1),padding=\"valid\",activation=\"relu\"))\n",
        "\n",
        "#3 max pool layer\n",
        "model.add(MaxPooling2D(pool_size=(3,3),strides=(2,2)))\n",
        "\n",
        "model.add(BatchNormalization())\n",
        "\n",
        "\n",
        "model.add(Flatten())\n",
        "\n",
        "#1 dense layer\n",
        "model.add(Dense(4096,input_shape=(227,227,3),activation=\"relu\"))\n",
        "\n",
        "model.add(Dropout(0.4))\n",
        "\n",
        "model.add(BatchNormalization())\n",
        "\n",
        "#2 dense layer\n",
        "model.add(Dense(4096,activation=\"relu\"))\n",
        "\n",
        "model.add(Dropout(0.4))\n",
        "\n",
        "model.add(BatchNormalization())\n",
        "\n",
        "#3 dense layer\n",
        "model.add(Dense(1000,activation=\"relu\"))\n",
        "\n",
        "model.add(Dropout(0.4))\n",
        "\n",
        "model.add(BatchNormalization())\n",
        "\n",
        "#output layer\n",
        "model.add(Dense(38,activation=\"softmax\"))"
      ],
      "execution_count": null,
      "outputs": []
    },
    {
      "cell_type": "code",
      "metadata": {
        "colab": {
          "base_uri": "https://localhost:8080/"
        },
        "id": "fr5Wk3xefiEb",
        "outputId": "a8c3b865-3ac7-4e38-d70f-bc1fadc077ac"
      },
      "source": [
        "model.summary()"
      ],
      "execution_count": null,
      "outputs": [
        {
          "output_type": "stream",
          "text": [
            "Model: \"sequential\"\n",
            "_________________________________________________________________\n",
            "Layer (type)                 Output Shape              Param #   \n",
            "=================================================================\n",
            "conv2d (Conv2D)              (None, 55, 55, 96)        34944     \n",
            "_________________________________________________________________\n",
            "max_pooling2d (MaxPooling2D) (None, 27, 27, 96)        0         \n",
            "_________________________________________________________________\n",
            "batch_normalization (BatchNo (None, 27, 27, 96)        384       \n",
            "_________________________________________________________________\n",
            "conv2d_1 (Conv2D)            (None, 23, 23, 256)       614656    \n",
            "_________________________________________________________________\n",
            "max_pooling2d_1 (MaxPooling2 (None, 11, 11, 256)       0         \n",
            "_________________________________________________________________\n",
            "batch_normalization_1 (Batch (None, 11, 11, 256)       1024      \n",
            "_________________________________________________________________\n",
            "conv2d_2 (Conv2D)            (None, 9, 9, 384)         885120    \n",
            "_________________________________________________________________\n",
            "conv2d_3 (Conv2D)            (None, 7, 7, 384)         1327488   \n",
            "_________________________________________________________________\n",
            "conv2d_4 (Conv2D)            (None, 5, 5, 256)         884992    \n",
            "_________________________________________________________________\n",
            "max_pooling2d_2 (MaxPooling2 (None, 2, 2, 256)         0         \n",
            "_________________________________________________________________\n",
            "batch_normalization_2 (Batch (None, 2, 2, 256)         1024      \n",
            "_________________________________________________________________\n",
            "flatten (Flatten)            (None, 1024)              0         \n",
            "_________________________________________________________________\n",
            "dense (Dense)                (None, 4096)              4198400   \n",
            "_________________________________________________________________\n",
            "dropout (Dropout)            (None, 4096)              0         \n",
            "_________________________________________________________________\n",
            "batch_normalization_3 (Batch (None, 4096)              16384     \n",
            "_________________________________________________________________\n",
            "dense_1 (Dense)              (None, 4096)              16781312  \n",
            "_________________________________________________________________\n",
            "dropout_1 (Dropout)          (None, 4096)              0         \n",
            "_________________________________________________________________\n",
            "batch_normalization_4 (Batch (None, 4096)              16384     \n",
            "_________________________________________________________________\n",
            "dense_2 (Dense)              (None, 1000)              4097000   \n",
            "_________________________________________________________________\n",
            "dropout_2 (Dropout)          (None, 1000)              0         \n",
            "_________________________________________________________________\n",
            "batch_normalization_5 (Batch (None, 1000)              4000      \n",
            "_________________________________________________________________\n",
            "dense_3 (Dense)              (None, 38)                38038     \n",
            "=================================================================\n",
            "Total params: 28,901,150\n",
            "Trainable params: 28,881,550\n",
            "Non-trainable params: 19,600\n",
            "_________________________________________________________________\n"
          ],
          "name": "stdout"
        }
      ]
    },
    {
      "cell_type": "markdown",
      "metadata": {
        "id": "gBQHpwMCjeGk"
      },
      "source": [
        "Compile the defined CNN model"
      ]
    },
    {
      "cell_type": "code",
      "metadata": {
        "id": "qjP417ONf5jk"
      },
      "source": [
        "model.compile(optimizer=\"adam\", loss=\"categorical_crossentropy\", metrics=[\"accuracy\"])"
      ],
      "execution_count": null,
      "outputs": []
    },
    {
      "cell_type": "markdown",
      "metadata": {
        "id": "Wxrt28-Hkfl2"
      },
      "source": [
        "Creating checkpoint to save the model"
      ]
    },
    {
      "cell_type": "code",
      "metadata": {
        "id": "26gCum0xjg3I"
      },
      "source": [
        "model_check_point = tf.keras.callbacks.ModelCheckpoint(filepath='/content/drive/MyDrive/Agridoc model/Alexnet_227x227.h5', \n",
        "                                                      monitor = 'val_loss',\n",
        "                                                      verbose = 1, \n",
        "                                                      save_best_only= True)"
      ],
      "execution_count": null,
      "outputs": []
    },
    {
      "cell_type": "code",
      "metadata": {
        "id": "e9YtRrshkRIX"
      },
      "source": [
        "callbacks = [model_check_point]"
      ],
      "execution_count": null,
      "outputs": []
    },
    {
      "cell_type": "code",
      "metadata": {
        "colab": {
          "base_uri": "https://localhost:8080/"
        },
        "id": "w-_rG5b_k20z",
        "outputId": "5159ad35-4ec1-479a-9727-ee71ce4b3d97"
      },
      "source": [
        "history = model.fit(train_generator, epochs=10, validation_data=validation_generator, callbacks = callbacks)"
      ],
      "execution_count": null,
      "outputs": [
        {
          "output_type": "stream",
          "text": [
            "Epoch 1/10\n",
            "382/382 [==============================] - 4764s 12s/step - loss: 2.1857 - accuracy: 0.3943 - val_loss: 2.9971 - val_accuracy: 0.3860\n",
            "\n",
            "Epoch 00001: val_loss improved from inf to 2.99715, saving model to /content/drive/MyDrive/Agridoc model/Alexnet_227x227.h5\n",
            "Epoch 2/10\n",
            "382/382 [==============================] - 4743s 12s/step - loss: 1.3187 - accuracy: 0.5950 - val_loss: 1.8697 - val_accuracy: 0.4998\n",
            "\n",
            "Epoch 00002: val_loss improved from 2.99715 to 1.86974, saving model to /content/drive/MyDrive/Agridoc model/Alexnet_227x227.h5\n",
            "Epoch 3/10\n",
            "382/382 [==============================] - 4672s 12s/step - loss: 0.9642 - accuracy: 0.6976 - val_loss: 1.6514 - val_accuracy: 0.5764\n",
            "\n",
            "Epoch 00003: val_loss improved from 1.86974 to 1.65145, saving model to /content/drive/MyDrive/Agridoc model/Alexnet_227x227.h5\n",
            "Epoch 4/10\n",
            "382/382 [==============================] - 4673s 12s/step - loss: 0.7626 - accuracy: 0.7562 - val_loss: 1.6526 - val_accuracy: 0.5633\n",
            "\n",
            "Epoch 00004: val_loss did not improve from 1.65145\n",
            "Epoch 5/10\n",
            "382/382 [==============================] - 4787s 13s/step - loss: 0.6409 - accuracy: 0.7930 - val_loss: 0.6921 - val_accuracy: 0.7915\n",
            "\n",
            "Epoch 00005: val_loss improved from 1.65145 to 0.69210, saving model to /content/drive/MyDrive/Agridoc model/Alexnet_227x227.h5\n",
            "Epoch 6/10\n",
            " 16/382 [>.............................] - ETA: 1:14:39 - loss: 0.5776 - accuracy: 0.8257"
          ],
          "name": "stdout"
        }
      ]
    },
    {
      "cell_type": "code",
      "metadata": {
        "id": "-GBzn5sWd-uK"
      },
      "source": [
        "model2 = tf.keras.models.load_model(\"/content/drive/MyDrive/Agridoc model//Alexnet_127x127.h5\")"
      ],
      "execution_count": null,
      "outputs": []
    },
    {
      "cell_type": "code",
      "metadata": {
        "colab": {
          "base_uri": "https://localhost:8080/"
        },
        "id": "QLujzjttk5Pf",
        "outputId": "6f1faddf-545e-494c-998e-48ce2596b3df"
      },
      "source": [
        "model2.evaluate(validation_generator)"
      ],
      "execution_count": null,
      "outputs": [
        {
          "output_type": "stream",
          "text": [
            "43/43 [==============================] - 127s 3s/step - loss: 0.9334 - accuracy: 0.7388\n"
          ],
          "name": "stdout"
        },
        {
          "output_type": "execute_result",
          "data": {
            "text/plain": [
              "[0.9333643913269043, 0.7388032078742981]"
            ]
          },
          "metadata": {
            "tags": []
          },
          "execution_count": 30
        }
      ]
    },
    {
      "cell_type": "code",
      "metadata": {
        "colab": {
          "base_uri": "https://localhost:8080/"
        },
        "id": "uOqI6YdSk7vf",
        "outputId": "4bb96214-efda-486b-9d4f-cc3ee5eef123"
      },
      "source": [
        "model2.summary()"
      ],
      "execution_count": null,
      "outputs": [
        {
          "output_type": "stream",
          "text": [
            "Model: \"sequential_2\"\n",
            "_________________________________________________________________\n",
            "Layer (type)                 Output Shape              Param #   \n",
            "=================================================================\n",
            "conv2d_6 (Conv2D)            (None, 55, 55, 96)        34944     \n",
            "_________________________________________________________________\n",
            "max_pooling2d_4 (MaxPooling2 (None, 27, 27, 96)        0         \n",
            "_________________________________________________________________\n",
            "batch_normalization_6 (Batch (None, 27, 27, 96)        384       \n",
            "_________________________________________________________________\n",
            "conv2d_7 (Conv2D)            (None, 23, 23, 256)       614656    \n",
            "_________________________________________________________________\n",
            "max_pooling2d_5 (MaxPooling2 (None, 11, 11, 256)       0         \n",
            "_________________________________________________________________\n",
            "batch_normalization_7 (Batch (None, 11, 11, 256)       1024      \n",
            "_________________________________________________________________\n",
            "conv2d_8 (Conv2D)            (None, 9, 9, 384)         885120    \n",
            "_________________________________________________________________\n",
            "conv2d_9 (Conv2D)            (None, 7, 7, 384)         1327488   \n",
            "_________________________________________________________________\n",
            "conv2d_10 (Conv2D)           (None, 5, 5, 256)         884992    \n",
            "_________________________________________________________________\n",
            "max_pooling2d_6 (MaxPooling2 (None, 2, 2, 256)         0         \n",
            "_________________________________________________________________\n",
            "batch_normalization_8 (Batch (None, 2, 2, 256)         1024      \n",
            "_________________________________________________________________\n",
            "flatten_1 (Flatten)          (None, 1024)              0         \n",
            "_________________________________________________________________\n",
            "dense_4 (Dense)              (None, 4096)              4198400   \n",
            "_________________________________________________________________\n",
            "dropout_3 (Dropout)          (None, 4096)              0         \n",
            "_________________________________________________________________\n",
            "batch_normalization_9 (Batch (None, 4096)              16384     \n",
            "_________________________________________________________________\n",
            "dense_5 (Dense)              (None, 4096)              16781312  \n",
            "_________________________________________________________________\n",
            "dropout_4 (Dropout)          (None, 4096)              0         \n",
            "_________________________________________________________________\n",
            "batch_normalization_10 (Batc (None, 4096)              16384     \n",
            "_________________________________________________________________\n",
            "dense_6 (Dense)              (None, 1000)              4097000   \n",
            "_________________________________________________________________\n",
            "dropout_5 (Dropout)          (None, 1000)              0         \n",
            "_________________________________________________________________\n",
            "batch_normalization_11 (Batc (None, 1000)              4000      \n",
            "_________________________________________________________________\n",
            "dense_7 (Dense)              (None, 38)                38038     \n",
            "=================================================================\n",
            "Total params: 28,901,150\n",
            "Trainable params: 28,881,550\n",
            "Non-trainable params: 19,600\n",
            "_________________________________________________________________\n"
          ],
          "name": "stdout"
        }
      ]
    },
    {
      "cell_type": "code",
      "metadata": {
        "colab": {
          "base_uri": "https://localhost:8080/"
        },
        "id": "i_S6aCLVhbr4",
        "outputId": "b68489e2-fe53-41b3-a194-d4875236c4c5"
      },
      "source": [
        "validation_generator.class_indices"
      ],
      "execution_count": null,
      "outputs": [
        {
          "output_type": "execute_result",
          "data": {
            "text/plain": [
              "{'Apple___Apple_scab': 0,\n",
              " 'Apple___Black_rot': 1,\n",
              " 'Apple___Cedar_apple_rust': 2,\n",
              " 'Apple___healthy': 3,\n",
              " 'Blueberry___healthy': 4,\n",
              " 'Cherry_(including_sour)___Powdery_mildew': 5,\n",
              " 'Cherry_(including_sour)___healthy': 6,\n",
              " 'Corn_(maize)___Cercospora_leaf_spot Gray_leaf_spot': 7,\n",
              " 'Corn_(maize)___Common_rust_': 8,\n",
              " 'Corn_(maize)___Northern_Leaf_Blight': 9,\n",
              " 'Corn_(maize)___healthy': 10,\n",
              " 'Grape___Black_rot': 11,\n",
              " 'Grape___Esca_(Black_Measles)': 12,\n",
              " 'Grape___Leaf_blight_(Isariopsis_Leaf_Spot)': 13,\n",
              " 'Grape___healthy': 14,\n",
              " 'Orange___Haunglongbing_(Citrus_greening)': 15,\n",
              " 'Peach___Bacterial_spot': 16,\n",
              " 'Peach___healthy': 17,\n",
              " 'Pepper,_bell___Bacterial_spot': 18,\n",
              " 'Pepper,_bell___healthy': 19,\n",
              " 'Potato___Early_blight': 20,\n",
              " 'Potato___Late_blight': 21,\n",
              " 'Potato___healthy': 22,\n",
              " 'Raspberry___healthy': 23,\n",
              " 'Soybean___healthy': 24,\n",
              " 'Squash___Powdery_mildew': 25,\n",
              " 'Strawberry___Leaf_scorch': 26,\n",
              " 'Strawberry___healthy': 27,\n",
              " 'Tomato___Bacterial_spot': 28,\n",
              " 'Tomato___Early_blight': 29,\n",
              " 'Tomato___Late_blight': 30,\n",
              " 'Tomato___Leaf_Mold': 31,\n",
              " 'Tomato___Septoria_leaf_spot': 32,\n",
              " 'Tomato___Spider_mites Two-spotted_spider_mite': 33,\n",
              " 'Tomato___Target_Spot': 34,\n",
              " 'Tomato___Tomato_Yellow_Leaf_Curl_Virus': 35,\n",
              " 'Tomato___Tomato_mosaic_virus': 36,\n",
              " 'Tomato___healthy': 37}"
            ]
          },
          "metadata": {
            "tags": []
          },
          "execution_count": 13
        }
      ]
    },
    {
      "cell_type": "markdown",
      "metadata": {
        "id": "3X3d51HiDuVz"
      },
      "source": [
        "Retrain after 6 epoch"
      ]
    },
    {
      "cell_type": "code",
      "metadata": {
        "id": "6IN0mJx1DE6R"
      },
      "source": [
        "model = tf.keras.models.load_model(\"/content/drive/MyDrive/Agridoc model//Alexnet_227x227.h5\")"
      ],
      "execution_count": null,
      "outputs": []
    },
    {
      "cell_type": "code",
      "metadata": {
        "colab": {
          "base_uri": "https://localhost:8080/"
        },
        "id": "tfYcgbFyC2lf",
        "outputId": "bbf8f6fe-d7f1-4382-b616-9fb3bebd6c8c"
      },
      "source": [
        "model.evaluate(validation_generator)"
      ],
      "execution_count": null,
      "outputs": [
        {
          "output_type": "stream",
          "text": [
            "43/43 [==============================] - 123s 3s/step - loss: 0.6921 - accuracy: 0.7915\n"
          ],
          "name": "stdout"
        },
        {
          "output_type": "execute_result",
          "data": {
            "text/plain": [
              "[0.6920990347862244, 0.7914831042289734]"
            ]
          },
          "metadata": {
            "tags": []
          },
          "execution_count": 15
        }
      ]
    },
    {
      "cell_type": "code",
      "metadata": {
        "id": "numRjWZTDoNe"
      },
      "source": [
        "model_check_point = tf.keras.callbacks.ModelCheckpoint(filepath='/content/drive/MyDrive/Agridoc model/Alexnet_227x227.h5', \n",
        "                                                      monitor = 'val_loss',\n",
        "                                                      verbose = 1, \n",
        "                                                      save_best_only= True)"
      ],
      "execution_count": null,
      "outputs": []
    },
    {
      "cell_type": "code",
      "metadata": {
        "id": "UWRCTMHADoNi"
      },
      "source": [
        "callbacks = [model_check_point]"
      ],
      "execution_count": null,
      "outputs": []
    },
    {
      "cell_type": "code",
      "metadata": {
        "colab": {
          "base_uri": "https://localhost:8080/"
        },
        "id": "lMj2TViLDoNi",
        "outputId": "41fa120f-dfc1-4fcd-804b-e568532c57b2"
      },
      "source": [
        "history = model.fit(train_generator, epochs=10, validation_data=validation_generator, callbacks = callbacks, initial_epoch=6)"
      ],
      "execution_count": null,
      "outputs": [
        {
          "output_type": "stream",
          "text": [
            "Epoch 7/10\n",
            "382/382 [==============================] - 4522s 12s/step - loss: 0.5635 - accuracy: 0.8194 - val_loss: 1.1663 - val_accuracy: 0.6953\n",
            "\n",
            "Epoch 00007: val_loss improved from inf to 1.16625, saving model to /content/drive/MyDrive/Agridoc model/Alexnet_227x227.h5\n",
            "Epoch 8/10\n",
            "382/382 [==============================] - 4445s 12s/step - loss: 0.5034 - accuracy: 0.8386 - val_loss: 0.4998 - val_accuracy: 0.8552\n",
            "\n",
            "Epoch 00008: val_loss improved from 1.16625 to 0.49982, saving model to /content/drive/MyDrive/Agridoc model/Alexnet_227x227.h5\n",
            "Epoch 9/10\n",
            "382/382 [==============================] - 4411s 12s/step - loss: 0.4449 - accuracy: 0.8551 - val_loss: 1.2558 - val_accuracy: 0.6986\n",
            "\n",
            "Epoch 00009: val_loss did not improve from 0.49982\n",
            "Epoch 10/10\n",
            "382/382 [==============================] - 4445s 12s/step - loss: 0.3992 - accuracy: 0.8714 - val_loss: 0.9900 - val_accuracy: 0.7520\n",
            "\n",
            "Epoch 00010: val_loss did not improve from 0.49982\n"
          ],
          "name": "stdout"
        }
      ]
    },
    {
      "cell_type": "code",
      "metadata": {
        "colab": {
          "base_uri": "https://localhost:8080/",
          "height": 573
        },
        "id": "dTNo7ijbHGUg",
        "outputId": "1576f950-b768-43a1-9ca9-1abfd7f0615e"
      },
      "source": [
        "acc = history.history['accuracy']\n",
        "val_acc = history.history['val_accuracy']\n",
        "loss = history.history['loss']\n",
        "val_loss = history.history['val_loss']\n",
        "\n",
        "#Train and validation accuracy\n",
        "plt.plot( acc, 'b', label='Training accurarcy')\n",
        "plt.plot( val_acc, 'r', label='Validation accurarcy')\n",
        "plt.title('Training and Validation accurarcy')\n",
        "plt.ylabel('accuracy')\n",
        "plt.xlabel('epoch')\n",
        "plt.legend()\n",
        "\n",
        "plt.figure()\n",
        "#Train and validation loss\n",
        "plt.plot( loss, 'b', label='Training loss')\n",
        "plt.plot( val_loss, 'r', label='Validation loss')\n",
        "plt.title('Training and Validation loss')\n",
        "plt.ylabel('loss')\n",
        "plt.xlabel('epoch')\n",
        "plt.legend()\n",
        "plt.show()"
      ],
      "execution_count": null,
      "outputs": [
        {
          "output_type": "display_data",
          "data": {
            "image/png": "[encoded data removed]",
            "text/plain": [
              "<Figure size 432x288 with 1 Axes>"
            ]
          },
          "metadata": {
            "tags": []
          }
        },
        {
          "output_type": "display_data",
          "data": {
            "image/png": "[encoded data removed]",
            "text/plain": [
              "<Figure size 432x288 with 1 Axes>"
            ]
          },
          "metadata": {
            "tags": []
          }
        }
      ]
    },
    {
      "cell_type": "code",
      "metadata": {
        "colab": {
          "base_uri": "https://localhost:8080/"
        },
        "id": "So-UxFzdYouU",
        "outputId": "252a19b5-d382-41d3-82cf-3e992f25e0c9"
      },
      "source": [
        "print(\"[INFO] Calculating model accuracy\")\n",
        "scores = model.evaluate(validation_generator)\n",
        "print(f\"Test Accuracy: {scores[1]*100}\")"
      ],
      "execution_count": null,
      "outputs": [
        {
          "output_type": "stream",
          "text": [
            "[INFO] Calculating model accuracy\n",
            "43/43 [==============================] - 121s 3s/step - loss: 0.9900 - accuracy: 0.7520\n",
            "Test Accuracy: 75.20191073417664\n"
          ],
          "name": "stdout"
        }
      ]
    },
    {
      "cell_type": "code",
      "metadata": {
        "colab": {
          "base_uri": "https://localhost:8080/",
          "height": 590
        },
        "id": "MTn3djGyYv8W",
        "outputId": "0089a8e6-51a2-4327-ee55-a73a7282ca5b"
      },
      "source": [
        "print(history.history.keys())\n",
        "#  \"Accuracy\"\n",
        "plt.plot(history.history['accuracy'])\n",
        "plt.plot(history.history['val_accuracy'])\n",
        "plt.title('model accuracy')\n",
        "plt.ylabel('accuracy')\n",
        "plt.xlabel('epoch')\n",
        "plt.legend(['train', 'validation'], loc='upper left')\n",
        "plt.show()\n",
        "# \"Loss\"\n",
        "plt.plot(history.history['loss'])\n",
        "plt.plot(history.history['val_loss'])\n",
        "plt.title('model loss')\n",
        "plt.ylabel('loss')\n",
        "plt.xlabel('epoch')\n",
        "plt.legend(['train', 'validation'], loc='upper left')\n",
        "plt.show()"
      ],
      "execution_count": null,
      "outputs": [
        {
          "output_type": "stream",
          "text": [
            "dict_keys(['loss', 'accuracy', 'val_loss', 'val_accuracy'])\n"
          ],
          "name": "stdout"
        },
        {
          "output_type": "display_data",
          "data": {
            "image/png": "[encoded data removed]",
            "text/plain": [
              "<Figure size 432x288 with 1 Axes>"
            ]
          },
          "metadata": {
            "tags": []
          }
        },
        {
          "output_type": "display_data",
          "data": {
            "image/png": "[encoded data removed]",
            "text/plain": [
              "<Figure size 432x288 with 1 Axes>"
            ]
          },
          "metadata": {
            "tags": []
          }
        }
      ]
    },
    {
      "cell_type": "markdown",
      "metadata": {
        "id": "uXbo5xCScKA2"
      },
      "source": [
        "#Loading model"
      ]
    },
    {
      "cell_type": "code",
      "metadata": {
        "id": "8YCuVKqaNKKG"
      },
      "source": [
        "model = tf.keras.models.load_model(\"/content/drive/MyDrive/Agridoc model/Alexnet_227x227.h5\")\n"
      ],
      "execution_count": null,
      "outputs": []
    },
    {
      "cell_type": "code",
      "metadata": {
        "colab": {
          "base_uri": "https://localhost:8080/"
        },
        "id": "HDYau_q3UrcR",
        "outputId": "674b92e1-3b36-46f0-c689-c858f31f6dce"
      },
      "source": [
        "print(\"[INFO] Calculating model accuracy\")\n",
        "scores = model.evaluate(validation_generator)\n",
        "print(f\"Test Accuracy: {scores[1]*100}\")"
      ],
      "execution_count": null,
      "outputs": [
        {
          "output_type": "stream",
          "text": [
            "[INFO] Calculating model accuracy\n",
            "43/43 [==============================] - 106s 2s/step - loss: 0.4998 - accuracy: 0.8552\n",
            "Test Accuracy: 85.51762104034424\n"
          ],
          "name": "stdout"
        }
      ]
    },
    {
      "cell_type": "code",
      "metadata": {
        "id": "mySn41IEQj2K"
      },
      "source": [
        "model1 = tf.keras.models.load_model(\"/content/drive/MyDrive/Agridoc model/Alexnet_227x227_new.h5\")\n"
      ],
      "execution_count": null,
      "outputs": []
    },
    {
      "cell_type": "code",
      "metadata": {
        "colab": {
          "base_uri": "https://localhost:8080/"
        },
        "id": "x-XmfgulQqfC",
        "outputId": "e24b1106-2828-4174-b017-067efc8af695"
      },
      "source": [
        "print(\"[INFO] Calculating model accuracy\")\n",
        "scores = model1.evaluate(validation_generator)\n",
        "print(f\"Test Accuracy: {scores[1]*100}\")"
      ],
      "execution_count": null,
      "outputs": [
        {
          "output_type": "stream",
          "text": [
            "[INFO] Calculating model accuracy\n",
            "43/43 [==============================] - 120s 3s/step - loss: 0.9759 - accuracy: 0.7109\n",
            "Test Accuracy: 71.09031081199646\n"
          ],
          "name": "stdout"
        }
      ]
    },
    {
      "cell_type": "code",
      "metadata": {
        "id": "hhhSDOCQWpVN"
      },
      "source": [
        "model2 = tf.keras.models.load_model(\"/content/drive/MyDrive/Agridoc model/Alexnet_227x227_newupdate.h5\")\n"
      ],
      "execution_count": null,
      "outputs": []
    },
    {
      "cell_type": "code",
      "metadata": {
        "colab": {
          "base_uri": "https://localhost:8080/"
        },
        "id": "7qledP8nWpVq",
        "outputId": "7a7ef27d-c64e-43d4-d27d-4a7b88ff5b02"
      },
      "source": [
        "print(\"[INFO] Calculating model accuracy\")\n",
        "scores = model2.evaluate(validation_generator)\n",
        "print(f\"Test Accuracy: {scores[1]*100}\")"
      ],
      "execution_count": null,
      "outputs": [
        {
          "output_type": "stream",
          "text": [
            "[INFO] Calculating model accuracy\n",
            "43/43 [==============================] - 119s 3s/step - loss: 0.2230 - accuracy: 0.9246\n",
            "Test Accuracy: 92.4559473991394\n"
          ],
          "name": "stdout"
        }
      ]
    },
    {
      "cell_type": "code",
      "metadata": {
        "id": "HFr3X7LrWyXa"
      },
      "source": [
        "model3 = tf.keras.models.load_model(\"/content/drive/MyDrive/Agridoc model/Alexnet_227x227_newupdate2.h5\")\n"
      ],
      "execution_count": null,
      "outputs": []
    },
    {
      "cell_type": "code",
      "metadata": {
        "colab": {
          "base_uri": "https://localhost:8080/"
        },
        "id": "2iTM3l2DWyXd",
        "outputId": "d048662b-9808-4979-88ea-0e07f0d72831"
      },
      "source": [
        "print(\"[INFO] Calculating model accuracy\")\n",
        "scores = model3.evaluate(validation_generator)\n",
        "print(f\"Test Accuracy: {scores[1]*100}\")"
      ],
      "execution_count": null,
      "outputs": [
        {
          "output_type": "stream",
          "text": [
            "[INFO] Calculating model accuracy\n",
            "43/43 [==============================] - 119s 3s/step - loss: 0.4006 - accuracy: 0.8959\n",
            "Test Accuracy: 89.59251046180725\n"
          ],
          "name": "stdout"
        }
      ]
    },
    {
      "cell_type": "markdown",
      "metadata": {
        "id": "sg3lx6KxcQ0K"
      },
      "source": [
        "Model's accuracy"
      ]
    },
    {
      "cell_type": "code",
      "metadata": {
        "id": "JGspH9VNcQWX"
      },
      "source": [
        "print(\"[INFO] Calculating model accuracy\")\n",
        "scores = model.evaluate(validation_generator)\n",
        "print(f\"Test Accuracy: {scores[1]*100}\")"
      ],
      "execution_count": null,
      "outputs": []
    },
    {
      "cell_type": "code",
      "metadata": {
        "id": "jum12jVHcXtW"
      },
      "source": [
        "model_check_point = tf.keras.callbacks.ModelCheckpoint(filepath='/content/drive/MyDrive/Agridoc model/Alexnet_227x227.h5', \n",
        "                                                      monitor = 'val_loss',\n",
        "                                                      verbose = 1, \n",
        "                                                      save_best_only= True)"
      ],
      "execution_count": null,
      "outputs": []
    },
    {
      "cell_type": "code",
      "metadata": {
        "id": "KmaE6wIocXtX"
      },
      "source": [
        "callbacks = [model_check_point]"
      ],
      "execution_count": null,
      "outputs": []
    },
    {
      "cell_type": "code",
      "metadata": {
        "colab": {
          "base_uri": "https://localhost:8080/"
        },
        "id": "QFzJvQcVcXtX",
        "outputId": "41fa120f-dfc1-4fcd-804b-e568532c57b2"
      },
      "source": [
        "history = model.fit(train_generator, epochs=25, validation_data=validation_generator, callbacks = callbacks, initial_epoch=10)"
      ],
      "execution_count": null,
      "outputs": [
        {
          "output_type": "stream",
          "text": [
            "Epoch 7/10\n",
            "382/382 [==============================] - 4522s 12s/step - loss: 0.5635 - accuracy: 0.8194 - val_loss: 1.1663 - val_accuracy: 0.6953\n",
            "\n",
            "Epoch 00007: val_loss improved from inf to 1.16625, saving model to /content/drive/MyDrive/Agridoc model/Alexnet_227x227.h5\n",
            "Epoch 8/10\n",
            "382/382 [==============================] - 4445s 12s/step - loss: 0.5034 - accuracy: 0.8386 - val_loss: 0.4998 - val_accuracy: 0.8552\n",
            "\n",
            "Epoch 00008: val_loss improved from 1.16625 to 0.49982, saving model to /content/drive/MyDrive/Agridoc model/Alexnet_227x227.h5\n",
            "Epoch 9/10\n",
            "382/382 [==============================] - 4411s 12s/step - loss: 0.4449 - accuracy: 0.8551 - val_loss: 1.2558 - val_accuracy: 0.6986\n",
            "\n",
            "Epoch 00009: val_loss did not improve from 0.49982\n",
            "Epoch 10/10\n",
            "382/382 [==============================] - 4445s 12s/step - loss: 0.3992 - accuracy: 0.8714 - val_loss: 0.9900 - val_accuracy: 0.7520\n",
            "\n",
            "Epoch 00010: val_loss did not improve from 0.49982\n"
          ],
          "name": "stdout"
        }
      ]
    },
    {
      "cell_type": "code",
      "metadata": {
        "id": "TCn1PvTWcfP8"
      },
      "source": [
        "print(\"[INFO] Calculating model accuracy\")\n",
        "scores = model.evaluate(validation_generator)\n",
        "print(f\"Test Accuracy: {scores[1]*100}\")"
      ],
      "execution_count": null,
      "outputs": []
    },
    {
      "cell_type": "code",
      "metadata": {
        "id": "HedgKNvlcvt9"
      },
      "source": [
        "acc = history.history['accuracy']\n",
        "val_acc = history.history['val_accuracy']\n",
        "loss = history.history['loss']\n",
        "val_loss = history.history['val_loss']\n",
        "\n",
        "#Train and validation accuracy\n",
        "plt.plot( acc, 'b', label='Training accurarcy')\n",
        "plt.plot( val_acc, 'r', label='Validation accurarcy')\n",
        "plt.title('Training and Validation accurarcy')\n",
        "plt.ylabel('accuracy')\n",
        "plt.xlabel('epoch')\n",
        "plt.legend()\n",
        "\n",
        "plt.figure()\n",
        "#Train and validation loss\n",
        "plt.plot( loss, 'b', label='Training loss')\n",
        "plt.plot( val_loss, 'r', label='Validation loss')\n",
        "plt.title('Training and Validation loss')\n",
        "plt.ylabel('loss')\n",
        "plt.xlabel('epoch')\n",
        "plt.legend()\n",
        "plt.show()"
      ],
      "execution_count": null,
      "outputs": []
    }
  ]
}