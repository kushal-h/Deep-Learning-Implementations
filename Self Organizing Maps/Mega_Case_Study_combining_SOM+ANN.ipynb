{
  "nbformat": 4,
  "nbformat_minor": 0,
  "metadata": {
    "colab": {
      "name": "Mega_Case_Study combining SOM+ANN.ipynb",
      "provenance": [],
      "collapsed_sections": [],
      "include_colab_link": true
    },
    "kernelspec": {
      "name": "python3",
      "display_name": "Python 3"
    }
  },
  "cells": [
    {
      "cell_type": "markdown",
      "metadata": {
        "id": "view-in-github",
        "colab_type": "text"
      },
      "source": [
        "<a href=\"https://colab.research.google.com/github/kushal-h/Deep-Learning-Implementations/blob/master/Self%20Organizing%20Maps/Mega_Case_Study_combining_SOM%2BANN.ipynb\" target=\"_parent\"><img src=\"https://colab.research.google.com/assets/colab-badge.svg\" alt=\"Open In Colab\"/></a>"
      ]
    },
    {
      "cell_type": "markdown",
      "metadata": {
        "id": "GJYk9gRO_W9P"
      },
      "source": [
        "#Mega Case Study - Making a hybrid Deep Learning Model"
      ]
    },
    {
      "cell_type": "markdown",
      "metadata": {
        "id": "D8PA8C_X_fHe"
      },
      "source": [
        "#Part 1 - SOM"
      ]
    },
    {
      "cell_type": "markdown",
      "metadata": {
        "id": "48btSZ8cAAVt"
      },
      "source": [
        "##Install MiniSom Package"
      ]
    },
    {
      "cell_type": "code",
      "metadata": {
        "id": "5ueD5zlVAAVu",
        "colab": {
          "base_uri": "https://localhost:8080/"
        },
        "outputId": "0ebb593e-5503-4447-a0e9-6350b08261b7"
      },
      "source": [
        "!pip install MiniSom"
      ],
      "execution_count": null,
      "outputs": [
        {
          "output_type": "stream",
          "text": [
            "Collecting MiniSom\n",
            "  Downloading https://files.pythonhosted.org/packages/88/c9/7ef2caebca23a1f1803a057c3df1aef219e230acc4fa824c0944432b6b7a/MiniSom-2.2.9.tar.gz\n",
            "Building wheels for collected packages: MiniSom\n",
            "  Building wheel for MiniSom (setup.py) ... \u001b[?25l\u001b[?25hdone\n",
            "  Created wheel for MiniSom: filename=MiniSom-2.2.9-cp37-none-any.whl size=8595 sha256=d615ba84b7c6e741c21491ad301bba326372ca9271ba5a9483e4d6753a907135\n",
            "  Stored in directory: /root/.cache/pip/wheels/de/a0/08/5234d6b02b29c561f62b6c985e2eb7d480fb0b92359a8c74e4\n",
            "Successfully built MiniSom\n",
            "Installing collected packages: MiniSom\n",
            "Successfully installed MiniSom-2.2.9\n"
          ],
          "name": "stdout"
        }
      ]
    },
    {
      "cell_type": "markdown",
      "metadata": {
        "id": "y2L7M7QLAAVx"
      },
      "source": [
        "## Importing the libraries\n"
      ]
    },
    {
      "cell_type": "code",
      "metadata": {
        "id": "zy0_GMcbAAVx"
      },
      "source": [
        "import numpy as np\n",
        "import pandas as pd\n",
        "import matplotlib.pyplot as plt"
      ],
      "execution_count": null,
      "outputs": []
    },
    {
      "cell_type": "markdown",
      "metadata": {
        "id": "M74YAQUJAAVz"
      },
      "source": [
        "## Importing the dataset"
      ]
    },
    {
      "cell_type": "code",
      "metadata": {
        "id": "oP387iJvAAV0"
      },
      "source": [
        "dataset = pd.read_csv('Credit_Card_Applications.csv')\n",
        "X = dataset.iloc[:, :-1].values \n",
        "y = dataset.iloc[:, -1].values"
      ],
      "execution_count": null,
      "outputs": []
    },
    {
      "cell_type": "markdown",
      "metadata": {
        "id": "xaNRHZwYAAV2"
      },
      "source": [
        "## Feature Scaling\n"
      ]
    },
    {
      "cell_type": "code",
      "metadata": {
        "id": "57QK6WXTAAV3"
      },
      "source": [
        "from sklearn.preprocessing import MinMaxScaler\n",
        "sc = MinMaxScaler(feature_range = (0,1))\n",
        "X = sc.fit_transform(X)"
      ],
      "execution_count": null,
      "outputs": []
    },
    {
      "cell_type": "markdown",
      "metadata": {
        "id": "WyD5sEHYAAV5"
      },
      "source": [
        "##Training the SOM\n"
      ]
    },
    {
      "cell_type": "code",
      "metadata": {
        "id": "-BXn8YphAAV6"
      },
      "source": [
        "from minisom import MiniSom\n",
        "som = MiniSom(x=10, y=10, input_len= 15, sigma= 1.0, learning_rate = 0.5)\n",
        "som.random_weights_init(X)\n",
        "som.train_random(data = X, num_iteration = 100)"
      ],
      "execution_count": null,
      "outputs": []
    },
    {
      "cell_type": "markdown",
      "metadata": {
        "id": "d9qf8w7sAAV8"
      },
      "source": [
        "##Visualizing the results\n"
      ]
    },
    {
      "cell_type": "code",
      "metadata": {
        "id": "cshl06SmAAV8",
        "colab": {
          "base_uri": "https://localhost:8080/",
          "height": 269
        },
        "outputId": "ef91a488-6aef-4d2d-8469-02f5b542a049"
      },
      "source": [
        "from pylab import bone, pcolor, colorbar, plot, show\n",
        "bone()\n",
        "pcolor(som.distance_map().T)\n",
        "colorbar()\n",
        "markers = ['o', 's']\n",
        "colors = ['r', 'g']\n",
        "for i, x in enumerate(X):\n",
        "    w = som.winner(x)\n",
        "    plot(w[0] + 0.5,\n",
        "         w[1] + 0.5,\n",
        "         markers[y[i]],\n",
        "         markeredgecolor = colors[y[i]],\n",
        "         markerfacecolor = 'None',\n",
        "         markersize = 10,\n",
        "         markeredgewidth = 2)\n",
        "show()"
      ],
      "execution_count": null,
      "outputs": [
        {
          "output_type": "display_data",
          "data": {
            "image/png": "[encoded data removed]",
            "text/plain": [
              "<Figure size 432x288 with 2 Axes>"
            ]
          },
          "metadata": {
            "tags": [],
            "needs_background": "light"
          }
        }
      ]
    },
    {
      "cell_type": "markdown",
      "metadata": {
        "id": "gijZkcIGAAWA"
      },
      "source": [
        "## Finding the frauds\n"
      ]
    },
    {
      "cell_type": "code",
      "metadata": {
        "id": "EJIH9sDvAAWA"
      },
      "source": [
        "mappings = som.win_map(X)\n",
        "frauds = np.concatenate((mappings[(1,7)], mappings[(2,8)]), axis = 0)\n",
        "frauds = sc.inverse_transform(frauds)"
      ],
      "execution_count": null,
      "outputs": []
    },
    {
      "cell_type": "code",
      "metadata": {
        "colab": {
          "base_uri": "https://localhost:8080/"
        },
        "id": "R8Gkum3av22j",
        "outputId": "259bac65-b50c-4d95-f732-006b18ee8040"
      },
      "source": [
        "frauds.shape"
      ],
      "execution_count": null,
      "outputs": [
        {
          "output_type": "execute_result",
          "data": {
            "text/plain": [
              "(23, 15)"
            ]
          },
          "metadata": {
            "tags": []
          },
          "execution_count": 8
        }
      ]
    },
    {
      "cell_type": "markdown",
      "metadata": {
        "id": "EOVO2DzCAAWD"
      },
      "source": [
        "##Printing the Fraunch Clients"
      ]
    },
    {
      "cell_type": "code",
      "metadata": {
        "id": "IjotUwR3AAWD",
        "colab": {
          "base_uri": "https://localhost:8080/"
        },
        "outputId": "d4a64381-75a3-49ef-c79e-9689c8eb5e89"
      },
      "source": [
        "print('Fraud Customer IDs')\n",
        "for i in frauds[:, 0]:\n",
        "  print(int(i))"
      ],
      "execution_count": null,
      "outputs": [
        {
          "output_type": "stream",
          "text": [
            "Fraud Customer IDs\n",
            "15575438\n",
            "15611973\n",
            "15593178\n",
            "15573077\n",
            "15599152\n",
            "15642001\n",
            "15642063\n",
            "15599535\n",
            "15654760\n",
            "15611794\n",
            "15668679\n",
            "15738487\n",
            "15636521\n",
            "15567834\n",
            "15591035\n",
            "15672912\n",
            "15694677\n",
            "15598614\n",
            "15608804\n",
            "15631267\n",
            "15611189\n",
            "15759387\n",
            "15698522\n"
          ],
          "name": "stdout"
        }
      ]
    },
    {
      "cell_type": "markdown",
      "metadata": {
        "id": "-9oatjNmAC8i"
      },
      "source": [
        "#Part 2 - Going from Unsupervised to Supervised Deep Learning"
      ]
    },
    {
      "cell_type": "markdown",
      "metadata": {
        "id": "eDv-ecVtAtwU"
      },
      "source": [
        "##Create Matrix of Features"
      ]
    },
    {
      "cell_type": "code",
      "metadata": {
        "id": "h3ADq7HsA3Sh"
      },
      "source": [
        "customers = dataset.iloc[:, 1:].values"
      ],
      "execution_count": null,
      "outputs": []
    },
    {
      "cell_type": "markdown",
      "metadata": {
        "id": "ycrQvNAvBAng"
      },
      "source": [
        "## Create Dependent Variable"
      ]
    },
    {
      "cell_type": "code",
      "metadata": {
        "id": "Dt1TQG3NBFDM"
      },
      "source": [
        "is_fraud = np.zeros(len(dataset))\n",
        "for i in range(len(dataset)):\n",
        "  if dataset.iloc[i,0] in frauds:\n",
        "    is_fraud[i] = 1"
      ],
      "execution_count": null,
      "outputs": []
    },
    {
      "cell_type": "markdown",
      "metadata": {
        "id": "OgQBLi0iBsji"
      },
      "source": [
        "#Part 3 - ANN"
      ]
    },
    {
      "cell_type": "markdown",
      "metadata": {
        "id": "RE_FcHyfV3TQ"
      },
      "source": [
        "### Feature Scaling"
      ]
    },
    {
      "cell_type": "code",
      "metadata": {
        "id": "ViCrE00rV8Sk"
      },
      "source": [
        "from sklearn.preprocessing import StandardScaler\n",
        "sc = StandardScaler()\n",
        "customers = sc.fit_transform(customers)"
      ],
      "execution_count": null,
      "outputs": []
    },
    {
      "cell_type": "markdown",
      "metadata": {
        "id": "-zfEzkRVXIwF"
      },
      "source": [
        "## Building the ANN"
      ]
    },
    {
      "cell_type": "markdown",
      "metadata": {
        "id": "S5-uTVVvCcTf"
      },
      "source": [
        "##Import Tensorflow"
      ]
    },
    {
      "cell_type": "code",
      "metadata": {
        "id": "veBa6HoECbZI",
        "colab": {
          "base_uri": "https://localhost:8080/",
          "height": 35
        },
        "outputId": "c38ad623-7fa8-4e15-9bbd-00902dec77a2"
      },
      "source": [
        "import tensorflow as tf\n",
        "tf.__version__"
      ],
      "execution_count": null,
      "outputs": [
        {
          "output_type": "execute_result",
          "data": {
            "application/vnd.google.colaboratory.intrinsic+json": {
              "type": "string"
            },
            "text/plain": [
              "'2.5.0'"
            ]
          },
          "metadata": {
            "tags": []
          },
          "execution_count": 13
        }
      ]
    },
    {
      "cell_type": "markdown",
      "metadata": {
        "id": "KvdeScabXtlB"
      },
      "source": [
        "## Initializing the ANN"
      ]
    },
    {
      "cell_type": "code",
      "metadata": {
        "id": "3dtrScHxXQox"
      },
      "source": [
        "ann = tf.keras.models.Sequential()"
      ],
      "execution_count": null,
      "outputs": []
    },
    {
      "cell_type": "markdown",
      "metadata": {
        "id": "rP6urV6SX7kS"
      },
      "source": [
        "##Adding the input layer and the first hidden layer"
      ]
    },
    {
      "cell_type": "code",
      "metadata": {
        "id": "bppGycBXYCQr"
      },
      "source": [
        "ann.add(tf.keras.layers.Dense(units=2, activation='relu'))"
      ],
      "execution_count": null,
      "outputs": []
    },
    {
      "cell_type": "markdown",
      "metadata": {
        "id": "OyNEe6RXYcU4"
      },
      "source": [
        "## Adding the output layer"
      ]
    },
    {
      "cell_type": "code",
      "metadata": {
        "id": "Cn3x41RBYfvY"
      },
      "source": [
        "ann.add(tf.keras.layers.Dense(units=1, activation='sigmoid'))"
      ],
      "execution_count": null,
      "outputs": []
    },
    {
      "cell_type": "markdown",
      "metadata": {
        "id": "JT4u2S1_Y4WG"
      },
      "source": [
        "## Training the ANN"
      ]
    },
    {
      "cell_type": "markdown",
      "metadata": {
        "id": "8GWlJChhY_ZI"
      },
      "source": [
        "## Compiling the ANN"
      ]
    },
    {
      "cell_type": "code",
      "metadata": {
        "id": "fG3RrwDXZEaS"
      },
      "source": [
        "ann.compile(optimizer = 'adam', loss = 'binary_crossentropy', metrics = ['accuracy'])"
      ],
      "execution_count": null,
      "outputs": []
    },
    {
      "cell_type": "markdown",
      "metadata": {
        "id": "0QR_G5u7ZLSM"
      },
      "source": [
        "## Training the ANN on the Training set"
      ]
    },
    {
      "cell_type": "code",
      "metadata": {
        "id": "nHZ-LKv_ZRb3",
        "colab": {
          "base_uri": "https://localhost:8080/"
        },
        "outputId": "bfe8c999-e3b5-4374-ba39-6c2a00ea1edf"
      },
      "source": [
        "ann.fit(customers, is_fraud, batch_size = 1, epochs = 10)"
      ],
      "execution_count": null,
      "outputs": [
        {
          "output_type": "stream",
          "text": [
            "Epoch 1/10\n",
            "690/690 [==============================] - 1s 1ms/step - loss: 0.6534 - accuracy: 0.7609\n",
            "Epoch 2/10\n",
            "690/690 [==============================] - 1s 1ms/step - loss: 0.3445 - accuracy: 0.9652\n",
            "Epoch 3/10\n",
            "690/690 [==============================] - 1s 1ms/step - loss: 0.2439 - accuracy: 0.9667\n",
            "Epoch 4/10\n",
            "690/690 [==============================] - 1s 1ms/step - loss: 0.2000 - accuracy: 0.9667\n",
            "Epoch 5/10\n",
            "690/690 [==============================] - 1s 1ms/step - loss: 0.1751 - accuracy: 0.9667\n",
            "Epoch 6/10\n",
            "690/690 [==============================] - 1s 1ms/step - loss: 0.1593 - accuracy: 0.9667\n",
            "Epoch 7/10\n",
            "690/690 [==============================] - 1s 1ms/step - loss: 0.1481 - accuracy: 0.9667\n",
            "Epoch 8/10\n",
            "690/690 [==============================] - 1s 1ms/step - loss: 0.1391 - accuracy: 0.9667\n",
            "Epoch 9/10\n",
            "690/690 [==============================] - 1s 1ms/step - loss: 0.1318 - accuracy: 0.9667\n",
            "Epoch 10/10\n",
            "690/690 [==============================] - 1s 1ms/step - loss: 0.1250 - accuracy: 0.9667\n"
          ],
          "name": "stdout"
        },
        {
          "output_type": "execute_result",
          "data": {
            "text/plain": [
              "<tensorflow.python.keras.callbacks.History at 0x7f8c5a9ccc10>"
            ]
          },
          "metadata": {
            "tags": []
          },
          "execution_count": 18
        }
      ]
    },
    {
      "cell_type": "markdown",
      "metadata": {
        "id": "tJj5k2MxZga3"
      },
      "source": [
        "## Predicting test set results"
      ]
    },
    {
      "cell_type": "code",
      "metadata": {
        "id": "nIyEeQdRZwgs"
      },
      "source": [
        "y_pred = ann.predict(customers)\n",
        "y_pred = np.concatenate((dataset.iloc[:, 0:1], y_pred), axis = 1)\n",
        "y_pred = y_pred[y_pred[:, 1].argsort()]"
      ],
      "execution_count": 36,
      "outputs": []
    },
    {
      "cell_type": "code",
      "metadata": {
        "id": "fX2iDXYiD-sN",
        "colab": {
          "base_uri": "https://localhost:8080/"
        },
        "outputId": "85cc43f4-43b9-4a14-cfe4-abb0d59e1855"
      },
      "source": [
        "y_pred"
      ],
      "execution_count": 37,
      "outputs": [
        {
          "output_type": "execute_result",
          "data": {
            "text/plain": [
              "array([[1.57997850e+07, 1.65581703e-04],\n",
              "       [1.57901130e+07, 6.31093979e-04],\n",
              "       [1.55858550e+07, 7.99834728e-04],\n",
              "       ...,\n",
              "       [1.57112990e+07, 2.70140707e-01],\n",
              "       [1.56514600e+07, 2.97753096e-01],\n",
              "       [1.58099090e+07, 3.62049222e-01]])"
            ]
          },
          "metadata": {
            "tags": []
          },
          "execution_count": 37
        }
      ]
    },
    {
      "cell_type": "code",
      "metadata": {
        "colab": {
          "base_uri": "https://localhost:8080/"
        },
        "id": "mvaRv_v4BhU3",
        "outputId": "98f06394-5af6-40d2-b916-c9e0082e1e85"
      },
      "source": [
        "y_pred"
      ],
      "execution_count": null,
      "outputs": [
        {
          "output_type": "execute_result",
          "data": {
            "text/plain": [
              "array([[1.57997850e+07, 1.65581703e-04],\n",
              "       [1.57901130e+07, 6.31093979e-04],\n",
              "       [1.55858550e+07, 7.99834728e-04],\n",
              "       ...,\n",
              "       [1.57112990e+07, 2.70140707e-01],\n",
              "       [1.56514600e+07, 2.97753096e-01],\n",
              "       [1.58099090e+07, 3.62049222e-01]])"
            ]
          },
          "metadata": {
            "tags": []
          },
          "execution_count": 34
        }
      ]
    },
    {
      "cell_type": "code",
      "metadata": {
        "id": "yhmRI-oiB1My"
      },
      "source": [
        ""
      ],
      "execution_count": null,
      "outputs": []
    }
  ]
}