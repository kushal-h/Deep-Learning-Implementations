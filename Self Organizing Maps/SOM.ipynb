{
  "nbformat": 4,
  "nbformat_minor": 0,
  "metadata": {
    "colab": {
      "name": "SOM.ipynb",
      "provenance": [],
      "collapsed_sections": [],
      "include_colab_link": true
    },
    "kernelspec": {
      "name": "python3",
      "display_name": "Python 3"
    },
    "accelerator": "TPU"
  },
  "cells": [
    {
      "cell_type": "markdown",
      "metadata": {
        "id": "view-in-github",
        "colab_type": "text"
      },
      "source": [
        "<a href=\"https://colab.research.google.com/github/kushal-h/Deep-Learning-Implementations/blob/master/Self%20Organizing%20Maps/SOM.ipynb\" target=\"_parent\"><img src=\"https://colab.research.google.com/assets/colab-badge.svg\" alt=\"Open In Colab\"/></a>"
      ]
    },
    {
      "cell_type": "markdown",
      "metadata": {
        "id": "t9oX7AL3nyLm"
      },
      "source": [
        "#Self Organizing Map"
      ]
    },
    {
      "cell_type": "markdown",
      "metadata": {
        "id": "J0gCxD5FXKCL"
      },
      "source": [
        "****\n",
        "@Author: Kushal H\n",
        "****"
      ]
    },
    {
      "cell_type": "markdown",
      "metadata": {
        "id": "r9maNhdd65pB"
      },
      "source": [
        "##Install MiniSom Package"
      ]
    },
    {
      "cell_type": "code",
      "metadata": {
        "id": "1KB28WUso0Bj",
        "outputId": "9d13a7c3-d4b6-46f3-d6e1-eb9b20afd8bd",
        "colab": {
          "base_uri": "https://localhost:8080/"
        }
      },
      "source": [
        "!pip install MiniSom"
      ],
      "execution_count": 5,
      "outputs": [
        {
          "output_type": "stream",
          "text": [
            "Collecting MiniSom\n",
            "  Downloading https://files.pythonhosted.org/packages/69/3c/a5ad0d36137285cdffdd5cad105ec2eb3c3ddfbd3254a324993ab51d3401/MiniSom-2.2.7.tar.gz\n",
            "Building wheels for collected packages: MiniSom\n",
            "  Building wheel for MiniSom (setup.py) ... \u001b[?25l\u001b[?25hdone\n",
            "  Created wheel for MiniSom: filename=MiniSom-2.2.7-cp36-none-any.whl size=8607 sha256=fc03ddd00db1cb0cd833890b05b7bd05bb8da0ac6b0feb1a20d134b712036140\n",
            "  Stored in directory: /root/.cache/pip/wheels/db/9a/af/0fca4ced67fec66c00998c4bf55b13f0a4c882ee775f278862\n",
            "Successfully built MiniSom\n",
            "Installing collected packages: MiniSom\n",
            "Successfully installed MiniSom-2.2.7\n"
          ],
          "name": "stdout"
        }
      ]
    },
    {
      "cell_type": "markdown",
      "metadata": {
        "id": "6AX0Y23PnyOI"
      },
      "source": [
        "### Importing the libraries\n"
      ]
    },
    {
      "cell_type": "code",
      "metadata": {
        "id": "gaSkOFKKBB3b"
      },
      "source": [
        "import numpy as np\n",
        "import pandas as pd\n",
        "import matplotlib.pyplot as plt"
      ],
      "execution_count": 9,
      "outputs": []
    },
    {
      "cell_type": "markdown",
      "metadata": {
        "id": "SCl7ERn_n539"
      },
      "source": [
        "## Importing the dataset"
      ]
    },
    {
      "cell_type": "code",
      "metadata": {
        "id": "4hgeaN3CoRfl"
      },
      "source": [
        "dataset = pd.read_csv('Credit_Card_Applications.csv')\n",
        "X = dataset.iloc[:, :-1].values \n",
        "y = dataset.iloc[:, -1].values"
      ],
      "execution_count": 10,
      "outputs": []
    },
    {
      "cell_type": "markdown",
      "metadata": {
        "id": "fYHJ0dd6n-d4"
      },
      "source": [
        "## Feature Scaling\n"
      ]
    },
    {
      "cell_type": "code",
      "metadata": {
        "id": "sY7JiUxwoSOd"
      },
      "source": [
        "from sklearn.preprocessing import MinMaxScaler\n",
        "sc = MinMaxScaler(feature_range = (0,1))\n",
        "X = sc.fit_transform(X)"
      ],
      "execution_count": 11,
      "outputs": []
    },
    {
      "cell_type": "markdown",
      "metadata": {
        "id": "aPp-7wfNoAhR"
      },
      "source": [
        "##Training the SOM\n"
      ]
    },
    {
      "cell_type": "code",
      "metadata": {
        "id": "3iuAhM6ooS0k"
      },
      "source": [
        "from minisom import MiniSom\n",
        "som = MiniSom(x=10, y=10, input_len= 15, sigma= 1.0, learning_rate = 0.5)\n",
        "som.random_weights_init(X)\n",
        "som.train_random(data = X, num_iteration = 100)"
      ],
      "execution_count": 6,
      "outputs": []
    },
    {
      "cell_type": "markdown",
      "metadata": {
        "id": "YiU27C-ToCnH"
      },
      "source": [
        "##Visualizing the results\n"
      ]
    },
    {
      "cell_type": "code",
      "metadata": {
        "id": "XzrIX4fZoTQj",
        "outputId": "0d0db870-243f-409d-b67b-a8856b4a2b19",
        "colab": {
          "base_uri": "https://localhost:8080/",
          "height": 269
        }
      },
      "source": [
        "from pylab import bone, pcolor, colorbar, plot, show\n",
        "bone() #initialization of the map (windows which contains map)\n",
        "pcolor(som.distance_map().T)\n",
        "colorbar()\n",
        "markers = ['o', 's']\n",
        "colors = ['r', 'g']\n",
        "for i, x in enumerate(X):\n",
        "    w = som.winner(x)\n",
        "    plot(w[0] + 0.5,\n",
        "         w[1] + 0.5,\n",
        "         markers[y[i]],\n",
        "         markeredgecolor = colors[y[i]],\n",
        "         markerfacecolor = 'None',\n",
        "         markersize = 10,\n",
        "         markeredgewidth = 2)\n",
        "show()"
      ],
      "execution_count": 16,
      "outputs": [
        {
          "output_type": "display_data",
          "data": {
            "image/png": "[encoded data removed]",
            "text/plain": [
              "<Figure size 432x288 with 2 Axes>"
            ]
          },
          "metadata": {
            "tags": [],
            "needs_background": "light"
          }
        }
      ]
    },
    {
      "cell_type": "markdown",
      "metadata": {
        "id": "4C-I_jBfoEkP"
      },
      "source": [
        "## Finding the frauds\n"
      ]
    },
    {
      "cell_type": "code",
      "metadata": {
        "id": "4xd-jb8doTlM"
      },
      "source": [
        "mappings = som.win_map(X)\n",
        "frauds = np.concatenate((mappings[(8,1)], mappings[(2,1)]), axis = 0)\n",
        "frauds = sc.inverse_transform(frauds)"
      ],
      "execution_count": 20,
      "outputs": []
    },
    {
      "cell_type": "markdown",
      "metadata": {
        "id": "frXqAlpo84b1"
      },
      "source": [
        "##Printing the Fraunch Clients"
      ]
    },
    {
      "cell_type": "code",
      "metadata": {
        "id": "54a4NnJo8761",
        "outputId": "0ba3f3ad-12e5-4f43-ba91-c04829d5a065",
        "colab": {
          "base_uri": "https://localhost:8080/"
        }
      },
      "source": [
        "print('Fraud Customer IDs')\n",
        "for i in frauds[:, 0]:\n",
        "  print(int(i))"
      ],
      "execution_count": 21,
      "outputs": [
        {
          "output_type": "stream",
          "text": [
            "Fraud Customer IDs\n",
            "15786237\n",
            "15767358\n",
            "15567839\n",
            "15671014\n",
            "15579583\n",
            "15642336\n",
            "15740487\n",
            "15811742\n",
            "15702571\n",
            "15622083\n",
            "15646190\n",
            "15715907\n",
            "15768342\n",
            "15748532\n",
            "15689692\n",
            "15672357\n",
            "15788634\n",
            "15766183\n",
            "15608595\n",
            "15772329\n",
            "15734649\n",
            "15646082\n",
            "15717629\n",
            "15604536\n",
            "15635598\n",
            "15647191\n",
            "15793896\n"
          ],
          "name": "stdout"
        }
      ]
    },
    {
      "cell_type": "code",
      "metadata": {
        "id": "Lm2YEeZ2U9CO"
      },
      "source": [
        ""
      ],
      "execution_count": null,
      "outputs": []
    }
  ]
}